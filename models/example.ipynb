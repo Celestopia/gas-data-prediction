{
 "cells": [
  {
   "cell_type": "code",
   "execution_count": null,
   "metadata": {},
   "outputs": [],
   "source": [
    "import numpy as np\n",
    "import matplotlib.pyplot as plt\n",
    "import torch\n",
    "import torch.nn as nn\n",
    "import torch.optim as optim\n",
    "import os\n",
    "import sys\n",
    "sys.path.append(os.path.join(os.path.dirname(os.path.abspath('__file__')), '..')) # Modify the working path so that this.ipynb file can import other modules like in the root directory\n",
    "\n",
    "from models.RNN import RNN, LSTM, GRU\n",
    "from models.CNN import CNN, TCN\n",
    "from models.MLP import MLP\n",
    "from models.transformer import Transformer, iTransformer, PatchTST, Reformer, Informer\n",
    "from models.Linear import LLinear, DLinear, NLinear\n",
    "\n",
    "\n"
   ]
  },
  {
   "cell_type": "code",
   "execution_count": 10,
   "metadata": {},
   "outputs": [],
   "source": [
    "input_len=30\n",
    "output_len=10\n",
    "input_channels=5\n",
    "output_channels=3\n",
    "n_samples=100\n",
    "\n",
    "model=CNN(input_len=input_len, output_len=output_len, input_channels=input_channels, output_channels=output_channels)"
   ]
  },
  {
   "cell_type": "code",
   "execution_count": 16,
   "metadata": {},
   "outputs": [
    {
     "name": "stdout",
     "output_type": "stream",
     "text": [
      "X.shape:  torch.Size([100, 30, 5])\n",
      "Y.shape:  torch.Size([100, 10, 3])\n",
      "model(X).shape:  torch.Size([100, 10, 3])\n"
     ]
    }
   ],
   "source": [
    "X=torch.tensor(np.random.randn(n_samples,input_len,input_channels), dtype=torch.float32)\n",
    "Y=torch.tensor(np.random.randn(n_samples,output_len,output_channels), dtype=torch.float32)\n",
    "print(\"X.shape: \", X.shape)\n",
    "print(\"Y.shape: \", Y.shape)\n",
    "print(\"model(X).shape: \", model(X).shape)"
   ]
  },
  {
   "cell_type": "code",
   "execution_count": 17,
   "metadata": {},
   "outputs": [
    {
     "name": "stdout",
     "output_type": "stream",
     "text": [
      "Epoch [1/50], Loss: 0.9958\n",
      "Epoch [2/50], Loss: 1.0654\n",
      "Epoch [3/50], Loss: 1.0976\n",
      "Epoch [4/50], Loss: 1.0729\n",
      "Epoch [5/50], Loss: 1.0498\n",
      "Epoch [6/50], Loss: 0.8750\n",
      "Epoch [7/50], Loss: 0.8763\n",
      "Epoch [8/50], Loss: 0.9653\n",
      "Epoch [9/50], Loss: 1.1423\n",
      "Epoch [10/50], Loss: 0.8686\n",
      "Epoch [11/50], Loss: 0.8271\n",
      "Epoch [12/50], Loss: 0.6380\n",
      "Epoch [13/50], Loss: 0.6101\n",
      "Epoch [14/50], Loss: 0.8198\n",
      "Epoch [15/50], Loss: 0.8661\n",
      "Epoch [16/50], Loss: 0.5564\n",
      "Epoch [17/50], Loss: 0.6856\n",
      "Epoch [18/50], Loss: 0.5013\n",
      "Epoch [19/50], Loss: 0.4741\n",
      "Epoch [20/50], Loss: 0.5102\n",
      "Epoch [21/50], Loss: 0.4712\n",
      "Epoch [22/50], Loss: 0.4172\n",
      "Epoch [23/50], Loss: 0.3909\n",
      "Epoch [24/50], Loss: 0.3716\n",
      "Epoch [25/50], Loss: 0.2963\n",
      "Epoch [26/50], Loss: 0.2587\n",
      "Epoch [27/50], Loss: 0.2641\n",
      "Epoch [28/50], Loss: 0.3029\n",
      "Epoch [29/50], Loss: 0.2605\n",
      "Epoch [30/50], Loss: 0.2742\n",
      "Epoch [31/50], Loss: 0.3165\n",
      "Epoch [32/50], Loss: 0.1815\n",
      "Epoch [33/50], Loss: 0.1961\n",
      "Epoch [34/50], Loss: 0.2376\n",
      "Epoch [35/50], Loss: 0.1878\n",
      "Epoch [36/50], Loss: 0.1429\n",
      "Epoch [37/50], Loss: 0.1878\n",
      "Epoch [38/50], Loss: 0.1402\n",
      "Epoch [39/50], Loss: 0.1275\n",
      "Epoch [40/50], Loss: 0.1213\n",
      "Epoch [41/50], Loss: 0.1041\n",
      "Epoch [42/50], Loss: 0.0770\n",
      "Epoch [43/50], Loss: 0.1121\n",
      "Epoch [44/50], Loss: 0.0792\n",
      "Epoch [45/50], Loss: 0.0857\n",
      "Epoch [46/50], Loss: 0.0662\n",
      "Epoch [47/50], Loss: 0.0642\n",
      "Epoch [48/50], Loss: 0.0908\n",
      "Epoch [49/50], Loss: 0.0708\n",
      "Epoch [50/50], Loss: 0.0544\n"
     ]
    }
   ],
   "source": [
    "from torch.utils.data import TensorDataset, DataLoader\n",
    "\n",
    "dataset = TensorDataset(X, Y)\n",
    "dataloader = DataLoader(dataset, batch_size=8, shuffle=True)\n",
    "\n",
    "criterion = nn.MSELoss()\n",
    "optimizer = optim.Adam(model.parameters(), lr=0.001)\n",
    "\n",
    "num_epochs = 50\n",
    "for epoch in range(num_epochs):\n",
    "    model.train()\n",
    "    \n",
    "    for batch_x, batch_y in dataloader:\n",
    "        \n",
    "        outputs = model(batch_x)\n",
    "        loss = criterion(outputs, batch_y)\n",
    "        \n",
    "        optimizer.zero_grad()\n",
    "        loss.backward()\n",
    "        optimizer.step()\n",
    "\n",
    "    print(f'Epoch [{epoch+1}/{num_epochs}], Loss: {loss.item():.4f}')\n"
   ]
  }
 ],
 "metadata": {
  "kernelspec": {
   "display_name": "env_py312",
   "language": "python",
   "name": "python3"
  },
  "language_info": {
   "codemirror_mode": {
    "name": "ipython",
    "version": 3
   },
   "file_extension": ".py",
   "mimetype": "text/x-python",
   "name": "python",
   "nbconvert_exporter": "python",
   "pygments_lexer": "ipython3",
   "version": "3.12.3"
  }
 },
 "nbformat": 4,
 "nbformat_minor": 2
}
