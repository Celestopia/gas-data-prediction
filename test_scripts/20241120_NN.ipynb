{
 "cells": [
  {
   "cell_type": "code",
   "execution_count": 1,
   "metadata": {},
   "outputs": [],
   "source": [
    "%matplotlib inline\n",
    "import numpy as np\n",
    "import matplotlib.pyplot as plt\n",
    "import pandas as pd\n",
    "import torch\n",
    "import torch.nn as nn\n",
    "import torch.optim as optim\n",
    "import os\n",
    "import sys\n",
    "import random\n",
    "import seaborn as sns\n",
    "from matplotlib.font_manager import FontProperties\n",
    "font1 = FontProperties(fname=r\"C:\\\\Windows\\\\Fonts\\\\STZHONGS.ttf\", size=14)\n",
    "font2 = FontProperties(fname=r\"C:\\\\Windows\\\\Fonts\\\\STZHONGS.ttf\", size=12)\n",
    "font3 = FontProperties(fname=r\"C:\\\\Windows\\\\Fonts\\\\STZHONGS.ttf\", size=10)\n",
    "font4 = FontProperties(fname=r\"C:\\\\Windows\\\\Fonts\\\\STZHONGS.ttf\", size=7)\n",
    "sns.set_style('whitegrid')\n",
    "sns.set_palette(\"muted\")\n",
    "random.seed(20241120)\n",
    "np.random.seed(20241120)\n",
    "torch.manual_seed(3407) # Torch.manual_seed(3407) is all you need. Paper: http://arxiv.org/abs/2109.08203\n",
    "# 修改工作路径，使本.ipynb文件能够像在本文件夹根目录下一样导入其他模块\n",
    "# Modify the working path so that this.ipynb file can import other modules like in the root directory\n",
    "current_dir = os.path.dirname(os.path.abspath('__file__'))\n",
    "sys.path.append(os.path.join(current_dir, '..'))"
   ]
  },
  {
   "cell_type": "code",
   "execution_count": 2,
   "metadata": {},
   "outputs": [
    {
     "name": "stdout",
     "output_type": "stream",
     "text": [
      "(1124, 30)\n"
     ]
    }
   ],
   "source": [
    "df_whole=pd.read_excel(\"E:\\\\科创优才\\\\实验数据\\\\天然气锅炉数据1.xlsx\", sheet_name=\"稳定运行数据段\")\n",
    "units=df_whole.iloc[0].tolist()\n",
    "df=df_whole.iloc[2:].reset_index(drop=True)\n",
    "\n",
    "df.columns=[ # 重命名列名\n",
    "    '开始时间',\n",
    "    '主蒸汽流量计算值',\n",
    "    '烟气含氧量（CEMS）',\n",
    "    '颗粒浓度',\n",
    "    '二氧化硫',\n",
    "    'NO浓度',\n",
    "    'NO2浓度',\n",
    "    'NOX标干浓度',\n",
    "    'NOX浓度',\n",
    "    '烟气湿度（CEMS）',\n",
    "    '烟气压力（CEMS）',\n",
    "    '烟气温度（CEMS）',\n",
    "    '一氧化碳',\n",
    "    '锅炉天然气进气流量',\n",
    "    '锅炉天然气进气温度',\n",
    "    '锅炉天然气进气压力',\n",
    "    '鼓风机出口温度',\n",
    "    '鼓风机出口压力',\n",
    "    '鼓风机变频器输出反馈',\n",
    "    '鼓风机变频器电流反馈',\n",
    "    '再循环烟气调节阀反馈',\n",
    "    '冷凝器出口烟气调节阀反馈',\n",
    "    '炉膛出口烟气温度（B分度）',\n",
    "    '炉膛出口烟气压力',\n",
    "    'SWY大气压',\n",
    "    'SWY天气温度',\n",
    "    'SWY空气湿度',\n",
    "    'SWY湿球温度',\n",
    "    '主蒸汽温度(蒸汽集箱出口温度）',\n",
    "    '主蒸汽压力(蒸汽集箱出口压力）',\n",
    "    '分汽缸温度',\n",
    "    '分汽缸压力',\n",
    "    '分汽缸出口至DN400蒸汽温度',\n",
    "    '过热器集箱出口蒸汽温度',\n",
    "    '天然气累计流量',\n",
    "    '冷凝器烟气流量（累计值）',\n",
    "    '冷凝器出口烟气流量',\n",
    "    '冷凝器出口烟气温度'\n",
    "]\n",
    "\n",
    "var_dict={\n",
    "    \"主蒸汽流量计算值\": \"t/h\",\n",
    "    \"烟气含氧量（CEMS）\": \"mg/Nm3\",\n",
    "    \"NO浓度\": \"mg/Nm3\",\n",
    "    \"NO2浓度\": \"mg/Nm3\",\n",
    "    \"NOX浓度\": \"mg/Nm3\",\n",
    "    \"烟气湿度（CEMS）\": \"%\",\n",
    "    \"烟气压力（CEMS）\": \"Pa\",\n",
    "    \"烟气温度（CEMS）\": \"℃\",\n",
    "    \"一氧化碳\": \"mg/Nm3\",\n",
    "    \"锅炉天然气进气流量\": \"m3/h\",\n",
    "    \"锅炉天然气进气温度\": \"℃\",\n",
    "    \"锅炉天然气进气压力\": \"kPa\",\n",
    "    '鼓风机出口温度': \"℃\",\n",
    "    \"鼓风机出口压力\": \"kPa\",\n",
    "    \"鼓风机变频器输出反馈\": \"Hz\",\n",
    "    \"鼓风机变频器电流反馈\": \"A\",\n",
    "    \"冷凝器出口烟气调节阀反馈\": \"%\",\n",
    "    \"炉膛出口烟气压力\": \"Pa\",\n",
    "    \"SWY大气压\": \"kPa\",\n",
    "    \"SWY天气温度\": \"℃\",\n",
    "    \"SWY空气湿度\": \"%\",\n",
    "    'SWY湿球温度': \"℃\",\n",
    "    '主蒸汽温度(蒸汽集箱出口温度）': \"℃\",\n",
    "    \"主蒸汽压力(蒸汽集箱出口压力）\": \"MPa\",\n",
    "    \"分汽缸温度\": \"℃\",\n",
    "    \"分汽缸压力\": \"MPa\",\n",
    "    '分汽缸出口至DN400蒸汽温度': \"℃\",\n",
    "    '过热器集箱出口蒸汽温度': \"℃\",\n",
    "    \"冷凝器出口烟气流量\": \"Nm3/h\",\n",
    "    \"冷凝器出口烟气温度\": \"℃\",\n",
    "}\n",
    "\n",
    "\n",
    "var_names=list(var_dict.keys())\n",
    "var_units=list(var_dict.values())\n",
    "\n",
    "data_np=df[var_names].to_numpy(dtype=float)\n",
    "DATA=[ # 通过不同切片增加数据量\n",
    "    data_np,\n",
    "    data_np[:800,:],\n",
    "    data_np[100:850,:],\n",
    "    data_np[200:900,:],\n",
    "    data_np[300:950,:],\n",
    "    data_np[400:1000,:],\n",
    "    ]\n",
    "print(data_np.shape)\n",
    "\n",
    "DATA=[\n",
    "    data_np,\n",
    "    data_np[:20,:],\n",
    "    data_np[:50,:],\n",
    "    data_np[:100,:],\n",
    "    data_np[:800,:],\n",
    "    data_np[100:850,:],\n",
    "    data_np[200:900,:],\n",
    "    data_np[300:950,:],\n",
    "    data_np[400:1000,:],\n",
    "    ]"
   ]
  },
  {
   "cell_type": "code",
   "execution_count": 20,
   "metadata": {},
   "outputs": [
    {
     "name": "stdout",
     "output_type": "stream",
     "text": [
      "train_indices: [8, 6, 1, 5, 2, 3, 0]\n",
      "test_indices: [7, 4]\n",
      "num_train: 7\n",
      "num_test: 2\n",
      "X_train shape: (3274, 10, 30)\n",
      "Y_train shape: (3274, 1, 30)\n",
      "\n",
      "\n",
      "len(X_train_grouped): 7\n",
      "len(Y_train_grouped): 7\n",
      "X_train_grouped[0] shape: (590, 10, 30)\n",
      "Y_train_grouped[0] shape: (590, 1, 30)\n",
      "\n",
      "\n",
      "len(X_test_grouped): 2\n",
      "len(Y_test_grouped): 2\n",
      "X_test shape: (1430, 10, 30)\n",
      "Y_test shape: (1430, 1, 30)\n",
      "X_test_grouped[0] shape: (640, 10, 30)\n",
      "Y_test_grouped[0] shape: (640, 1, 30)\n",
      "X shape: (4704, 10, 30)\n",
      "Y shape: (4704, 1, 30)\n",
      "len(X_grouped): 9\n",
      "len(Y_grouped): 9\n",
      "X_grouped[0] shape: (1114, 10, 30)\n",
      "Y_grouped[0] shape: (1114, 1, 30)\n"
     ]
    }
   ],
   "source": [
    "from gas_data_prediction.data_preprocessing import time_series_standardization, time_series_split, train_test_split\n",
    "\n",
    "input_len=10\n",
    "output_len=1\n",
    "input_channels=len(var_names)\n",
    "output_channels=len(var_names)\n",
    "\n",
    "DATA, var_mean , var_std_dev = time_series_standardization(data=DATA, mode=\"multiple\") # list of numpy arrays of shape (n_timesteps, n_vars)\n",
    "X, Y, X_grouped, Y_grouped = time_series_split(data=DATA,input_len=input_len, output_len=output_len, mode=\"multiple\")\n",
    "\n",
    "(train_indices, test_indices),\\\n",
    "    (X_train, Y_train, X_train_grouped, Y_train_grouped), \\\n",
    "    (X_test, Y_test, X_test_grouped, Y_test_grouped) \\\n",
    "        = train_test_split(X_grouped, Y_grouped, train_ratio=0.8, test_ratio=0.2)\n",
    "\n",
    "print(\"X_train shape:\", X_train.shape)\n",
    "print(\"Y_train shape:\", Y_train.shape)\n",
    "print(\"\\n\")\n",
    "print(\"len(X_train_grouped):\", len(X_train_grouped))\n",
    "print(\"len(Y_train_grouped):\", len(Y_train_grouped))\n",
    "print(\"X_train_grouped[0] shape:\", X_train_grouped[0].shape)\n",
    "print(\"Y_train_grouped[0] shape:\", Y_train_grouped[0].shape)\n",
    "print(\"\\n\")\n",
    "print(\"len(X_test_grouped):\", len(X_test_grouped))\n",
    "print(\"len(Y_test_grouped):\", len(Y_test_grouped))\n",
    "print(\"X_test shape:\", X_test.shape)\n",
    "print(\"Y_test shape:\", Y_test.shape)\n",
    "print(\"X_test_grouped[0] shape:\", X_test_grouped[0].shape)\n",
    "print(\"Y_test_grouped[0] shape:\", Y_test_grouped[0].shape)\n",
    "print(\"X shape:\", X.shape)\n",
    "print(\"Y shape:\", Y.shape)\n",
    "print(\"len(X_grouped):\", len(X_grouped))\n",
    "print(\"len(Y_grouped):\", len(Y_grouped))\n",
    "print(\"X_grouped[0] shape:\", X_grouped[0].shape)\n",
    "print(\"Y_grouped[0] shape:\", Y_grouped[0].shape)"
   ]
  },
  {
   "cell_type": "code",
   "execution_count": 42,
   "metadata": {},
   "outputs": [
    {
     "name": "stdout",
     "output_type": "stream",
     "text": [
      "Model parameters:  11182\n"
     ]
    }
   ],
   "source": [
    "from models.RNN import RNN, LSTM, GRU\n",
    "from models.CNN import CNN, TCN\n",
    "from models.MLP import MLP\n",
    "from models.transformer import Transformer, iTransformer, PatchTST, Reformer, Informer\n",
    "from models.Linear import LLinear, DLinear, NLinear\n",
    "from models.stat import Identical, ExponentialMovingAverage, SVR\n",
    "from gas_data_prediction.utils import FitHistory\n",
    "\n",
    "# Hyperparameters\n",
    "num_epochs = 20\n",
    "learning_rate = 0.001\n",
    "input_len = 10\n",
    "output_len = 1\n",
    "label_len = 0 # label_len should be set only for decoder-based models, or there is potential risk of data leakage.\n",
    "input_channels = 30\n",
    "output_channels = 30\n",
    "batch_size = 32\n",
    "#device = 'cpu'  # 设备\n",
    "device = 'cuda' if torch.cuda.is_available() else 'cpu'\n",
    "\n",
    "# Instantiate models, loss functions, evaluation functions, and optimizers\n",
    "# 实例化模型、损失函数、评估函数和优化器\n",
    "MODEL = CNN(\n",
    "    input_len=input_len, output_len=output_len, input_channels=input_channels, output_channels=output_channels,\n",
    "    ).to(device)\n",
    "loss_func = nn.MSELoss()\n",
    "metric_func=nn.L1Loss()\n",
    "optimizer = optim.Adam(MODEL.parameters(), lr=learning_rate)\n",
    "history=FitHistory()\n",
    "print('Model parameters: ', sum(p.numel() for p in MODEL.parameters()))"
   ]
  },
  {
   "cell_type": "code",
   "execution_count": 43,
   "metadata": {},
   "outputs": [
    {
     "name": "stdout",
     "output_type": "stream",
     "text": [
      "Train dataset size: X: (2291, 10, 30); Y: (2291, 1, 30)\n",
      "Val dataset size: X: (327, 10, 30); Y: (327, 1, 30)\n",
      "Test dataset size: X: (654, 10, 30); Y: (654, 1, 30)\n"
     ]
    }
   ],
   "source": [
    "from gas_data_prediction.data_preprocessing import get_XY_loaders\n",
    "train_loader, val_loader, test_loader = get_XY_loaders(X_train, Y_train, batch_size=batch_size)"
   ]
  },
  {
   "cell_type": "code",
   "execution_count": 45,
   "metadata": {},
   "outputs": [
    {
     "name": "stderr",
     "output_type": "stream",
     "text": [
      "  5%|▌         | 1/20 [00:00<00:05,  3.76it/s]"
     ]
    },
    {
     "name": "stdout",
     "output_type": "stream",
     "text": [
      "Epoch [ 1  /20], Time: 0.2657s, Loss: 0.1748, Metric: 0.2464, Val Loss: 0.1959, Val Metric: 0.2723\n"
     ]
    },
    {
     "name": "stderr",
     "output_type": "stream",
     "text": [
      " 10%|█         | 2/20 [00:00<00:04,  4.07it/s]"
     ]
    },
    {
     "name": "stdout",
     "output_type": "stream",
     "text": [
      "Epoch [ 2  /20], Time: 0.2296s, Loss: 0.1710, Metric: 0.2430, Val Loss: 0.1879, Val Metric: 0.2614\n"
     ]
    },
    {
     "name": "stderr",
     "output_type": "stream",
     "text": [
      " 15%|█▌        | 3/20 [00:00<00:04,  4.06it/s]"
     ]
    },
    {
     "name": "stdout",
     "output_type": "stream",
     "text": [
      "Epoch [ 3  /20], Time: 0.2429s, Loss: 0.1677, Metric: 0.2430, Val Loss: 0.1842, Val Metric: 0.2623\n"
     ]
    },
    {
     "name": "stderr",
     "output_type": "stream",
     "text": [
      " 20%|██        | 4/20 [00:00<00:03,  4.11it/s]"
     ]
    },
    {
     "name": "stdout",
     "output_type": "stream",
     "text": [
      "Epoch [ 4  /20], Time: 0.2373s, Loss: 0.1641, Metric: 0.2410, Val Loss: 0.1853, Val Metric: 0.2609\n"
     ]
    },
    {
     "name": "stderr",
     "output_type": "stream",
     "text": [
      " 25%|██▌       | 5/20 [00:01<00:03,  4.03it/s]"
     ]
    },
    {
     "name": "stdout",
     "output_type": "stream",
     "text": [
      "Epoch [ 5  /20], Time: 0.2566s, Loss: 0.1622, Metric: 0.2393, Val Loss: 0.1830, Val Metric: 0.2576\n"
     ]
    },
    {
     "name": "stderr",
     "output_type": "stream",
     "text": [
      " 30%|███       | 6/20 [00:01<00:03,  4.11it/s]"
     ]
    },
    {
     "name": "stdout",
     "output_type": "stream",
     "text": [
      "Epoch [ 6  /20], Time: 0.2336s, Loss: 0.1592, Metric: 0.2375, Val Loss: 0.1852, Val Metric: 0.2613\n"
     ]
    },
    {
     "name": "stderr",
     "output_type": "stream",
     "text": [
      " 35%|███▌      | 7/20 [00:01<00:03,  4.13it/s]"
     ]
    },
    {
     "name": "stdout",
     "output_type": "stream",
     "text": [
      "Epoch [ 7  /20], Time: 0.2393s, Loss: 0.1562, Metric: 0.2363, Val Loss: 0.1780, Val Metric: 0.2549\n"
     ]
    },
    {
     "name": "stderr",
     "output_type": "stream",
     "text": [
      " 40%|████      | 8/20 [00:01<00:02,  4.03it/s]"
     ]
    },
    {
     "name": "stdout",
     "output_type": "stream",
     "text": [
      "Epoch [ 8  /20], Time: 0.2611s, Loss: 0.1533, Metric: 0.2322, Val Loss: 0.1738, Val Metric: 0.2534\n"
     ]
    },
    {
     "name": "stderr",
     "output_type": "stream",
     "text": [
      " 45%|████▌     | 9/20 [00:02<00:02,  4.11it/s]"
     ]
    },
    {
     "name": "stdout",
     "output_type": "stream",
     "text": [
      "Epoch [ 9  /20], Time: 0.2308s, Loss: 0.1510, Metric: 0.2312, Val Loss: 0.1738, Val Metric: 0.2504\n"
     ]
    },
    {
     "name": "stderr",
     "output_type": "stream",
     "text": [
      " 50%|█████     | 10/20 [00:02<00:02,  4.00it/s]"
     ]
    },
    {
     "name": "stdout",
     "output_type": "stream",
     "text": [
      "Epoch [ 10 /20], Time: 0.2624s, Loss: 0.1491, Metric: 0.2300, Val Loss: 0.1691, Val Metric: 0.2480\n"
     ]
    },
    {
     "name": "stderr",
     "output_type": "stream",
     "text": [
      " 55%|█████▌    | 11/20 [00:02<00:02,  4.04it/s]"
     ]
    },
    {
     "name": "stdout",
     "output_type": "stream",
     "text": [
      "Epoch [ 11 /20], Time: 0.2425s, Loss: 0.1500, Metric: 0.2280, Val Loss: 0.1731, Val Metric: 0.2506\n"
     ]
    },
    {
     "name": "stderr",
     "output_type": "stream",
     "text": [
      " 60%|██████    | 12/20 [00:02<00:01,  4.12it/s]"
     ]
    },
    {
     "name": "stdout",
     "output_type": "stream",
     "text": [
      "Epoch [ 12 /20], Time: 0.2309s, Loss: 0.1466, Metric: 0.2285, Val Loss: 0.1686, Val Metric: 0.2506\n"
     ]
    },
    {
     "name": "stderr",
     "output_type": "stream",
     "text": [
      " 65%|██████▌   | 13/20 [00:03<00:01,  4.17it/s]"
     ]
    },
    {
     "name": "stdout",
     "output_type": "stream",
     "text": [
      "Epoch [ 13 /20], Time: 0.2309s, Loss: 0.1433, Metric: 0.2245, Val Loss: 0.1660, Val Metric: 0.2464\n"
     ]
    },
    {
     "name": "stderr",
     "output_type": "stream",
     "text": [
      " 70%|███████   | 14/20 [00:03<00:01,  4.18it/s]"
     ]
    },
    {
     "name": "stdout",
     "output_type": "stream",
     "text": [
      "Epoch [ 14 /20], Time: 0.2369s, Loss: 0.1416, Metric: 0.2226, Val Loss: 0.1640, Val Metric: 0.2449\n"
     ]
    },
    {
     "name": "stderr",
     "output_type": "stream",
     "text": [
      " 75%|███████▌  | 15/20 [00:03<00:01,  4.17it/s]"
     ]
    },
    {
     "name": "stdout",
     "output_type": "stream",
     "text": [
      "Epoch [ 15 /20], Time: 0.2416s, Loss: 0.1401, Metric: 0.2222, Val Loss: 0.1629, Val Metric: 0.2464\n"
     ]
    },
    {
     "name": "stderr",
     "output_type": "stream",
     "text": [
      " 80%|████████  | 16/20 [00:03<00:00,  4.23it/s]"
     ]
    },
    {
     "name": "stdout",
     "output_type": "stream",
     "text": [
      "Epoch [ 16 /20], Time: 0.2277s, Loss: 0.1386, Metric: 0.2210, Val Loss: 0.1627, Val Metric: 0.2450\n"
     ]
    },
    {
     "name": "stderr",
     "output_type": "stream",
     "text": [
      " 85%|████████▌ | 17/20 [00:04<00:00,  4.28it/s]"
     ]
    },
    {
     "name": "stdout",
     "output_type": "stream",
     "text": [
      "Epoch [ 17 /20], Time: 0.2248s, Loss: 0.1373, Metric: 0.2202, Val Loss: 0.1598, Val Metric: 0.2416\n"
     ]
    },
    {
     "name": "stderr",
     "output_type": "stream",
     "text": [
      " 90%|█████████ | 18/20 [00:04<00:00,  4.23it/s]"
     ]
    },
    {
     "name": "stdout",
     "output_type": "stream",
     "text": [
      "Epoch [ 18 /20], Time: 0.2416s, Loss: 0.1375, Metric: 0.2210, Val Loss: 0.1582, Val Metric: 0.2420\n"
     ]
    },
    {
     "name": "stderr",
     "output_type": "stream",
     "text": [
      " 95%|█████████▌| 19/20 [00:04<00:00,  4.24it/s]"
     ]
    },
    {
     "name": "stdout",
     "output_type": "stream",
     "text": [
      "Epoch [ 19 /20], Time: 0.2334s, Loss: 0.1359, Metric: 0.2185, Val Loss: 0.1608, Val Metric: 0.2436\n"
     ]
    },
    {
     "name": "stderr",
     "output_type": "stream",
     "text": [
      "100%|██████████| 20/20 [00:04<00:00,  4.15it/s]"
     ]
    },
    {
     "name": "stdout",
     "output_type": "stream",
     "text": [
      "Epoch [ 20 /20], Time: 0.2307s, Loss: 0.1339, Metric: 0.2183, Val Loss: 0.1624, Val Metric: 0.2463\n",
      "Total Time: 4.8000s\n"
     ]
    },
    {
     "name": "stderr",
     "output_type": "stream",
     "text": [
      "\n"
     ]
    },
    {
     "data": {
      "image/png": "[encoded data removed]",
      "text/plain": [
       "<Figure size 800x400 with 2 Axes>"
      ]
     },
     "metadata": {},
     "output_type": "display_data"
    },
    {
     "name": "stdout",
     "output_type": "stream",
     "text": [
      "Number of epochs:  40\n",
      "Training time:     9.7033s\n",
      "Training loss:     0.1339\n",
      "Training metric:   0.2183\n",
      "Validation loss:   0.1624\n",
      "Validation metric: 0.2463\n",
      "Loss on test set:  0.13628478348255157\n"
     ]
    }
   ],
   "source": [
    "from gas_data_prediction.utils import train\n",
    "# train the model\n",
    "history.update(\n",
    "            *train(MODEL, train_loader, val_loader, optimizer,\n",
    "                loss_func=nn.MSELoss(),\n",
    "                metric_func=nn.L1Loss(),\n",
    "                num_epochs=num_epochs,\n",
    "                device=device,\n",
    "                verbose=1)\n",
    "            )\n",
    "history.plot()\n",
    "history.summary()\n",
    "print(\"Loss on test set: \", MODEL.evaluate((X_test, Y_test),mode=\"numpy\",device=device))\n"
   ]
  },
  {
   "cell_type": "code",
   "execution_count": 50,
   "metadata": {},
   "outputs": [
    {
     "data": {
      "image/png": "[encoded data removed]",
      "text/plain": [
       "<Figure size 1200x500 with 1 Axes>"
      ]
     },
     "metadata": {},
     "output_type": "display_data"
    }
   ],
   "source": [
    "# Visualize on a particular variable and particular file\n",
    "from gas_data_prediction.utils import visualize_var, get_pred_true_pairs, get_pred_true_pairs_with_Tensor\n",
    "\n",
    "var_idx=4\n",
    "data_idx=0\n",
    "\n",
    "Y_pred, Y_true=get_pred_true_pairs_with_Tensor(MODEL,X_grouped[data_idx],Y_grouped[data_idx])\n",
    "\n",
    "shared_params={\n",
    "    'Y_pred': Y_pred,\n",
    "    'Y_true': Y_true,\n",
    "    'var_idx': var_idx,\n",
    "    'var_names': var_names,\n",
    "    'var_units': var_units,\n",
    "    'data_name': \"天然气锅炉数据\",\n",
    "    'var_mean': var_mean,\n",
    "    'var_std_dev': var_std_dev,\n",
    "}\n",
    "\n",
    "\n",
    "visualize_var(**shared_params, plot_residual=0, rescale=1)"
   ]
  },
  {
   "cell_type": "code",
   "execution_count": 47,
   "metadata": {},
   "outputs": [
    {
     "data": {
      "text/html": [
       "<div>\n",
       "<style scoped>\n",
       "    .dataframe tbody tr th:only-of-type {\n",
       "        vertical-align: middle;\n",
       "    }\n",
       "\n",
       "    .dataframe tbody tr th {\n",
       "        vertical-align: top;\n",
       "    }\n",
       "\n",
       "    .dataframe thead th {\n",
       "        text-align: right;\n",
       "    }\n",
       "</style>\n",
       "<table border=\"1\" class=\"dataframe\">\n",
       "  <thead>\n",
       "    <tr style=\"text-align: right;\">\n",
       "      <th></th>\n",
       "      <th>unit</th>\n",
       "      <th>RMSE</th>\n",
       "      <th>RMSE_rescaled</th>\n",
       "      <th>MAE</th>\n",
       "      <th>MAE_rescaled</th>\n",
       "    </tr>\n",
       "  </thead>\n",
       "  <tbody>\n",
       "    <tr>\n",
       "      <th>主蒸汽流量计算值</th>\n",
       "      <td>t/h</td>\n",
       "      <td>0.140892</td>\n",
       "      <td>0.140892</td>\n",
       "      <td>0.105702</td>\n",
       "      <td>0.105702</td>\n",
       "    </tr>\n",
       "    <tr>\n",
       "      <th>烟气含氧量（CEMS）</th>\n",
       "      <td>mg/Nm3</td>\n",
       "      <td>0.467014</td>\n",
       "      <td>0.467014</td>\n",
       "      <td>0.227832</td>\n",
       "      <td>0.227832</td>\n",
       "    </tr>\n",
       "    <tr>\n",
       "      <th>NO浓度</th>\n",
       "      <td>mg/Nm3</td>\n",
       "      <td>0.34175</td>\n",
       "      <td>0.34175</td>\n",
       "      <td>0.238629</td>\n",
       "      <td>0.238629</td>\n",
       "    </tr>\n",
       "    <tr>\n",
       "      <th>NO2浓度</th>\n",
       "      <td>mg/Nm3</td>\n",
       "      <td>0.298002</td>\n",
       "      <td>0.298002</td>\n",
       "      <td>0.227906</td>\n",
       "      <td>0.227906</td>\n",
       "    </tr>\n",
       "    <tr>\n",
       "      <th>NOX浓度</th>\n",
       "      <td>mg/Nm3</td>\n",
       "      <td>0.33013</td>\n",
       "      <td>0.33013</td>\n",
       "      <td>0.224353</td>\n",
       "      <td>0.224353</td>\n",
       "    </tr>\n",
       "    <tr>\n",
       "      <th>烟气湿度（CEMS）</th>\n",
       "      <td>%</td>\n",
       "      <td>0.290436</td>\n",
       "      <td>0.290436</td>\n",
       "      <td>0.192474</td>\n",
       "      <td>0.192474</td>\n",
       "    </tr>\n",
       "    <tr>\n",
       "      <th>烟气压力（CEMS）</th>\n",
       "      <td>Pa</td>\n",
       "      <td>0.755633</td>\n",
       "      <td>0.755633</td>\n",
       "      <td>0.483564</td>\n",
       "      <td>0.483564</td>\n",
       "    </tr>\n",
       "    <tr>\n",
       "      <th>烟气温度（CEMS）</th>\n",
       "      <td>℃</td>\n",
       "      <td>0.178936</td>\n",
       "      <td>0.178936</td>\n",
       "      <td>0.136036</td>\n",
       "      <td>0.136036</td>\n",
       "    </tr>\n",
       "    <tr>\n",
       "      <th>一氧化碳</th>\n",
       "      <td>mg/Nm3</td>\n",
       "      <td>0.316367</td>\n",
       "      <td>0.316367</td>\n",
       "      <td>0.168806</td>\n",
       "      <td>0.168806</td>\n",
       "    </tr>\n",
       "    <tr>\n",
       "      <th>锅炉天然气进气流量</th>\n",
       "      <td>m3/h</td>\n",
       "      <td>0.141817</td>\n",
       "      <td>0.141817</td>\n",
       "      <td>0.104154</td>\n",
       "      <td>0.104154</td>\n",
       "    </tr>\n",
       "    <tr>\n",
       "      <th>锅炉天然气进气温度</th>\n",
       "      <td>℃</td>\n",
       "      <td>0.817978</td>\n",
       "      <td>0.817978</td>\n",
       "      <td>0.607385</td>\n",
       "      <td>0.607385</td>\n",
       "    </tr>\n",
       "    <tr>\n",
       "      <th>锅炉天然气进气压力</th>\n",
       "      <td>kPa</td>\n",
       "      <td>0.240302</td>\n",
       "      <td>0.240302</td>\n",
       "      <td>0.188045</td>\n",
       "      <td>0.188045</td>\n",
       "    </tr>\n",
       "    <tr>\n",
       "      <th>鼓风机出口温度</th>\n",
       "      <td>℃</td>\n",
       "      <td>0.171573</td>\n",
       "      <td>0.171573</td>\n",
       "      <td>0.137316</td>\n",
       "      <td>0.137316</td>\n",
       "    </tr>\n",
       "    <tr>\n",
       "      <th>鼓风机出口压力</th>\n",
       "      <td>kPa</td>\n",
       "      <td>0.168859</td>\n",
       "      <td>0.168859</td>\n",
       "      <td>0.12977</td>\n",
       "      <td>0.12977</td>\n",
       "    </tr>\n",
       "    <tr>\n",
       "      <th>鼓风机变频器输出反馈</th>\n",
       "      <td>Hz</td>\n",
       "      <td>0.139296</td>\n",
       "      <td>0.139296</td>\n",
       "      <td>0.105011</td>\n",
       "      <td>0.105011</td>\n",
       "    </tr>\n",
       "    <tr>\n",
       "      <th>鼓风机变频器电流反馈</th>\n",
       "      <td>A</td>\n",
       "      <td>0.15316</td>\n",
       "      <td>0.15316</td>\n",
       "      <td>0.104527</td>\n",
       "      <td>0.104527</td>\n",
       "    </tr>\n",
       "    <tr>\n",
       "      <th>冷凝器出口烟气调节阀反馈</th>\n",
       "      <td>%</td>\n",
       "      <td>0.442122</td>\n",
       "      <td>0.442122</td>\n",
       "      <td>0.360989</td>\n",
       "      <td>0.360989</td>\n",
       "    </tr>\n",
       "    <tr>\n",
       "      <th>炉膛出口烟气压力</th>\n",
       "      <td>Pa</td>\n",
       "      <td>0.27265</td>\n",
       "      <td>0.27265</td>\n",
       "      <td>0.187301</td>\n",
       "      <td>0.187301</td>\n",
       "    </tr>\n",
       "    <tr>\n",
       "      <th>SWY大气压</th>\n",
       "      <td>kPa</td>\n",
       "      <td>0.194101</td>\n",
       "      <td>0.194101</td>\n",
       "      <td>0.155668</td>\n",
       "      <td>0.155668</td>\n",
       "    </tr>\n",
       "    <tr>\n",
       "      <th>SWY天气温度</th>\n",
       "      <td>℃</td>\n",
       "      <td>0.141637</td>\n",
       "      <td>0.141637</td>\n",
       "      <td>0.11</td>\n",
       "      <td>0.11</td>\n",
       "    </tr>\n",
       "    <tr>\n",
       "      <th>SWY空气湿度</th>\n",
       "      <td>%</td>\n",
       "      <td>0.166045</td>\n",
       "      <td>0.166045</td>\n",
       "      <td>0.122962</td>\n",
       "      <td>0.122962</td>\n",
       "    </tr>\n",
       "    <tr>\n",
       "      <th>SWY湿球温度</th>\n",
       "      <td>℃</td>\n",
       "      <td>0.236705</td>\n",
       "      <td>0.236705</td>\n",
       "      <td>0.185162</td>\n",
       "      <td>0.185162</td>\n",
       "    </tr>\n",
       "    <tr>\n",
       "      <th>主蒸汽温度(蒸汽集箱出口温度）</th>\n",
       "      <td>℃</td>\n",
       "      <td>0.207678</td>\n",
       "      <td>0.207678</td>\n",
       "      <td>0.15131</td>\n",
       "      <td>0.15131</td>\n",
       "    </tr>\n",
       "    <tr>\n",
       "      <th>主蒸汽压力(蒸汽集箱出口压力）</th>\n",
       "      <td>MPa</td>\n",
       "      <td>0.209576</td>\n",
       "      <td>0.209576</td>\n",
       "      <td>0.165302</td>\n",
       "      <td>0.165302</td>\n",
       "    </tr>\n",
       "    <tr>\n",
       "      <th>分汽缸温度</th>\n",
       "      <td>℃</td>\n",
       "      <td>0.235483</td>\n",
       "      <td>0.235483</td>\n",
       "      <td>0.168821</td>\n",
       "      <td>0.168821</td>\n",
       "    </tr>\n",
       "    <tr>\n",
       "      <th>分汽缸压力</th>\n",
       "      <td>MPa</td>\n",
       "      <td>0.22649</td>\n",
       "      <td>0.22649</td>\n",
       "      <td>0.177528</td>\n",
       "      <td>0.177528</td>\n",
       "    </tr>\n",
       "    <tr>\n",
       "      <th>分汽缸出口至DN400蒸汽温度</th>\n",
       "      <td>℃</td>\n",
       "      <td>0.224181</td>\n",
       "      <td>0.224181</td>\n",
       "      <td>0.159735</td>\n",
       "      <td>0.159735</td>\n",
       "    </tr>\n",
       "    <tr>\n",
       "      <th>过热器集箱出口蒸汽温度</th>\n",
       "      <td>℃</td>\n",
       "      <td>0.154182</td>\n",
       "      <td>0.154182</td>\n",
       "      <td>0.117313</td>\n",
       "      <td>0.117313</td>\n",
       "    </tr>\n",
       "    <tr>\n",
       "      <th>冷凝器出口烟气流量</th>\n",
       "      <td>Nm3/h</td>\n",
       "      <td>0.931396</td>\n",
       "      <td>0.931396</td>\n",
       "      <td>0.730375</td>\n",
       "      <td>0.730375</td>\n",
       "    </tr>\n",
       "    <tr>\n",
       "      <th>冷凝器出口烟气温度</th>\n",
       "      <td>℃</td>\n",
       "      <td>0.285061</td>\n",
       "      <td>0.285061</td>\n",
       "      <td>0.21254</td>\n",
       "      <td>0.21254</td>\n",
       "    </tr>\n",
       "  </tbody>\n",
       "</table>\n",
       "</div>"
      ],
      "text/plain": [
       "                   unit      RMSE RMSE_rescaled       MAE MAE_rescaled\n",
       "主蒸汽流量计算值            t/h  0.140892      0.140892  0.105702     0.105702\n",
       "烟气含氧量（CEMS）      mg/Nm3  0.467014      0.467014  0.227832     0.227832\n",
       "NO浓度             mg/Nm3   0.34175       0.34175  0.238629     0.238629\n",
       "NO2浓度            mg/Nm3  0.298002      0.298002  0.227906     0.227906\n",
       "NOX浓度            mg/Nm3   0.33013       0.33013  0.224353     0.224353\n",
       "烟气湿度（CEMS）            %  0.290436      0.290436  0.192474     0.192474\n",
       "烟气压力（CEMS）           Pa  0.755633      0.755633  0.483564     0.483564\n",
       "烟气温度（CEMS）            ℃  0.178936      0.178936  0.136036     0.136036\n",
       "一氧化碳             mg/Nm3  0.316367      0.316367  0.168806     0.168806\n",
       "锅炉天然气进气流量          m3/h  0.141817      0.141817  0.104154     0.104154\n",
       "锅炉天然气进气温度             ℃  0.817978      0.817978  0.607385     0.607385\n",
       "锅炉天然气进气压力           kPa  0.240302      0.240302  0.188045     0.188045\n",
       "鼓风机出口温度               ℃  0.171573      0.171573  0.137316     0.137316\n",
       "鼓风机出口压力             kPa  0.168859      0.168859   0.12977      0.12977\n",
       "鼓风机变频器输出反馈           Hz  0.139296      0.139296  0.105011     0.105011\n",
       "鼓风机变频器电流反馈            A   0.15316       0.15316  0.104527     0.104527\n",
       "冷凝器出口烟气调节阀反馈          %  0.442122      0.442122  0.360989     0.360989\n",
       "炉膛出口烟气压力             Pa   0.27265       0.27265  0.187301     0.187301\n",
       "SWY大气压              kPa  0.194101      0.194101  0.155668     0.155668\n",
       "SWY天气温度               ℃  0.141637      0.141637      0.11         0.11\n",
       "SWY空气湿度               %  0.166045      0.166045  0.122962     0.122962\n",
       "SWY湿球温度               ℃  0.236705      0.236705  0.185162     0.185162\n",
       "主蒸汽温度(蒸汽集箱出口温度）       ℃  0.207678      0.207678   0.15131      0.15131\n",
       "主蒸汽压力(蒸汽集箱出口压力）     MPa  0.209576      0.209576  0.165302     0.165302\n",
       "分汽缸温度                 ℃  0.235483      0.235483  0.168821     0.168821\n",
       "分汽缸压力               MPa   0.22649       0.22649  0.177528     0.177528\n",
       "分汽缸出口至DN400蒸汽温度       ℃  0.224181      0.224181  0.159735     0.159735\n",
       "过热器集箱出口蒸汽温度           ℃  0.154182      0.154182  0.117313     0.117313\n",
       "冷凝器出口烟气流量         Nm3/h  0.931396      0.931396  0.730375     0.730375\n",
       "冷凝器出口烟气温度             ℃  0.285061      0.285061   0.21254      0.21254"
      ]
     },
     "execution_count": 47,
     "metadata": {},
     "output_type": "execute_result"
    }
   ],
   "source": [
    "var_prediction_info={}\n",
    "for var_idx, (var_name, var_unit) in enumerate(var_dict.items()):\n",
    "    Y_pred, Y_true=get_pred_true_pairs_with_Tensor(MODEL,X_test_grouped[data_idx],Y_test_grouped[data_idx])\n",
    "    y_true=Y_true[:,var_idx] # shape: (n_samples,)\n",
    "    y_pred=Y_pred[:,var_idx] # shape: (n_samples,)\n",
    "    y_mean=var_mean[var_idx] # float\n",
    "    y_std_dev=var_std_dev[var_idx] # float\n",
    "\n",
    "    RMSE=np.sqrt(((y_true-y_pred)**2).mean())\n",
    "    MAE=np.abs(y_true-y_pred).mean()\n",
    "    RMSE_rescaled=RMSE*var_std_dev[var_idx]\n",
    "    MAE_rescaled=MAE*var_std_dev[var_idx]\n",
    "    var_prediction_info[var_name]=[var_unit, RMSE,RMSE_rescaled,MAE,MAE_rescaled]\n",
    "\n",
    "df=pd.DataFrame(var_prediction_info,index=['unit', 'RMSE','RMSE_rescaled','MAE','MAE_rescaled']).T\n",
    "#df.to_csv('20241120_NN_prediction_info.csv')\n",
    "df"
   ]
  }
 ],
 "metadata": {
  "kernelspec": {
   "display_name": "env_py312",
   "language": "python",
   "name": "python3"
  },
  "language_info": {
   "codemirror_mode": {
    "name": "ipython",
    "version": 3
   },
   "file_extension": ".py",
   "mimetype": "text/x-python",
   "name": "python",
   "nbconvert_exporter": "python",
   "pygments_lexer": "ipython3",
   "version": "3.12.5"
  }
 },
 "nbformat": 4,
 "nbformat_minor": 2
}
