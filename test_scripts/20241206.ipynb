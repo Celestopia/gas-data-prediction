{
 "cells": [
  {
   "cell_type": "code",
   "execution_count": 2,
   "metadata": {},
   "outputs": [
    {
     "data": {
      "text/html": [
       "<div>\n",
       "<style scoped>\n",
       "    .dataframe tbody tr th:only-of-type {\n",
       "        vertical-align: middle;\n",
       "    }\n",
       "\n",
       "    .dataframe tbody tr th {\n",
       "        vertical-align: top;\n",
       "    }\n",
       "\n",
       "    .dataframe thead th {\n",
       "        text-align: right;\n",
       "    }\n",
       "</style>\n",
       "<table border=\"1\" class=\"dataframe\">\n",
       "  <thead>\n",
       "    <tr style=\"text-align: right;\">\n",
       "      <th></th>\n",
       "      <th>0</th>\n",
       "    </tr>\n",
       "  </thead>\n",
       "  <tbody>\n",
       "    <tr>\n",
       "      <th>0</th>\n",
       "      <td>烟气含氧量（CEMS）</td>\n",
       "    </tr>\n",
       "    <tr>\n",
       "      <th>1</th>\n",
       "      <td>NOX浓度</td>\n",
       "    </tr>\n",
       "    <tr>\n",
       "      <th>2</th>\n",
       "      <td>烟气湿度（CEMS）</td>\n",
       "    </tr>\n",
       "    <tr>\n",
       "      <th>3</th>\n",
       "      <td>烟气压力（CEMS）</td>\n",
       "    </tr>\n",
       "    <tr>\n",
       "      <th>4</th>\n",
       "      <td>烟气温度（CEMS）</td>\n",
       "    </tr>\n",
       "    <tr>\n",
       "      <th>5</th>\n",
       "      <td>一氧化碳</td>\n",
       "    </tr>\n",
       "    <tr>\n",
       "      <th>6</th>\n",
       "      <td>炉膛出口烟气压力</td>\n",
       "    </tr>\n",
       "  </tbody>\n",
       "</table>\n",
       "</div>"
      ],
      "text/plain": [
       "             0\n",
       "0  烟气含氧量（CEMS）\n",
       "1        NOX浓度\n",
       "2   烟气湿度（CEMS）\n",
       "3   烟气压力（CEMS）\n",
       "4   烟气温度（CEMS）\n",
       "5         一氧化碳\n",
       "6     炉膛出口烟气压力"
      ]
     },
     "execution_count": 2,
     "metadata": {},
     "output_type": "execute_result"
    }
   ],
   "source": [
    "import pandas as pd\n",
    "a=[\n",
    "                    \"烟气含氧量（CEMS）\",\n",
    "                    #NO浓度\",\n",
    "                    #\"NO2浓度\", # 主要预测NO，因为NO2的准确性有待考量\n",
    "                    \"NOX浓度\",\n",
    "                    \"烟气湿度（CEMS）\",\n",
    "                    \"烟气压力（CEMS）\",\n",
    "                    \"烟气温度（CEMS）\",\n",
    "                    \"一氧化碳\",\n",
    "                    \"炉膛出口烟气压力\",\n",
    "\n",
    "                    #暂时不考虑以下输出变量\n",
    "                    #\"分汽缸温度\",\n",
    "                    #\"分汽缸压力\",\n",
    "                    #\"分汽缸出口至DN400蒸汽温度\",\n",
    "                    #\"过热器集箱出口蒸汽温度\",\n",
    "                    #\"冷凝器出口烟气流量\",\n",
    "                    #\"冷凝器出口烟气温度\",\n",
    "                ]\n",
    "df=pd.DataFrame(a)\n",
    "df"
   ]
  }
 ],
 "metadata": {
  "kernelspec": {
   "display_name": "env_py312",
   "language": "python",
   "name": "python3"
  },
  "language_info": {
   "codemirror_mode": {
    "name": "ipython",
    "version": 3
   },
   "file_extension": ".py",
   "mimetype": "text/x-python",
   "name": "python",
   "nbconvert_exporter": "python",
   "pygments_lexer": "ipython3",
   "version": "3.12.5"
  }
 },
 "nbformat": 4,
 "nbformat_minor": 2
}
