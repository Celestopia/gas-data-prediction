{
 "cells": [
  {
   "cell_type": "code",
   "execution_count": 2,
   "metadata": {},
   "outputs": [],
   "source": [
    "import numpy as np\n",
    "import pandas as pd\n",
    "import json\n",
    "\n"
   ]
  },
  {
   "cell_type": "code",
   "execution_count": 8,
   "metadata": {},
   "outputs": [
    {
     "data": {
      "text/plain": [
       "[0.1649901414921333,\n",
       " 0.9144672310325273,\n",
       " 0.9965181093476023,\n",
       " 0.4916364371370594,\n",
       " 0.7410167916305371]"
      ]
     },
     "execution_count": 8,
     "metadata": {},
     "output_type": "execute_result"
    }
   ],
   "source": [
    "X=np.random.rand(5,5)\n",
    "list(X[:,3])"
   ]
  },
  {
   "cell_type": "code",
   "execution_count": 14,
   "metadata": {},
   "outputs": [
    {
     "name": "stdout",
     "output_type": "stream",
     "text": [
      "{\"xDataArr\": [0, 1, 2, 3, 4], \"SeriesData\": [{\"name\": \"askdjh\", \"data\": [0.4040321111071651, 0.809031099596146, 0.7813291537752713, 0.7566172416029754, 0.5286109618222518]}, {\"name\": \"dfsk\", \"data\": [0.6656135587730856, 0.9554446825299472, 0.9544246232051317, 0.9101776494439173, 0.47796563224678534]}, {\"name\": \"sdf\", \"data\": [0.38514293301161273, 0.388778993432082, 0.10610050118260028, 0.5181178582448953, 0.05141660858361252]}, {\"name\": \"sdfg\", \"data\": [0.1649901414921333, 0.9144672310325273, 0.9965181093476023, 0.4916364371370594, 0.7410167916305371]}, {\"name\": \"sdsg\", \"data\": [0.7847601264199242, 0.7928595923335771, 0.13633112085500587, 0.6069940086929733, 0.7261278994087013]}]}\n"
     ]
    }
   ],
   "source": [
    "def to_line_chart_dict(X,names,mode=\"dict\",save_path=None):\n",
    "    # X: 2-d numpy array of shape (n_samples, n_selected_features)\n",
    "    # mode: \"dict\", \"json_string\" or \"save\"\n",
    "    assert type(X)==np.ndarray and X.ndim==2, \"X should be a 2-d numpy array\"\n",
    "    assert len(names)==X.shape[1], \"Number of names should be equal to number of selected features\"\n",
    "    data_dict={}\n",
    "    data_dict[\"xDataArr\"]=list(range(X.shape[0]))\n",
    "    data_dict[\"SeriesData\"]=[]\n",
    "    for i in range(len(names)):\n",
    "        data_dict[\"SeriesData\"].append(\n",
    "            {\n",
    "                \"name\":names[i],\n",
    "                \"data\":list(X[:,i])\n",
    "            }\n",
    "            )\n",
    "    if mode==\"dict\":\n",
    "        return data_dict\n",
    "    elif mode==\"json_string\":\n",
    "        return json.dumps(data_dict)\n",
    "    elif mode==\"save\":\n",
    "        with open(save_path,\"w\") as f:\n",
    "            json.dump(data_dict,f)\n",
    "    else:\n",
    "        raise ValueError(\"Invalid mode argument. mode should be 'dict', 'json_string' or 'save'\")\n",
    "\n",
    "print(to_line_chart_dict(X,names=[\"askdjh\", \"dfsk\", \"sdf\", \"sdfg\", \"sdsg\"], mode=\"json_string\"))"
   ]
  },
  {
   "cell_type": "code",
   "execution_count": null,
   "metadata": {},
   "outputs": [],
   "source": []
  },
  {
   "cell_type": "code",
   "execution_count": null,
   "metadata": {},
   "outputs": [],
   "source": []
  },
  {
   "cell_type": "code",
   "execution_count": null,
   "metadata": {},
   "outputs": [],
   "source": []
  }
 ],
 "metadata": {
  "kernelspec": {
   "display_name": "env_py312",
   "language": "python",
   "name": "python3"
  },
  "language_info": {
   "codemirror_mode": {
    "name": "ipython",
    "version": 3
   },
   "file_extension": ".py",
   "mimetype": "text/x-python",
   "name": "python",
   "nbconvert_exporter": "python",
   "pygments_lexer": "ipython3",
   "version": "3.12.5"
  }
 },
 "nbformat": 4,
 "nbformat_minor": 2
}
